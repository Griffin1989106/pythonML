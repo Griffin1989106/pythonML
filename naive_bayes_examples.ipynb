{
 "cells": [
  {
   "cell_type": "code",
   "execution_count": 1,
   "id": "gentle-poison",
   "metadata": {},
   "outputs": [],
   "source": [
    "\"\"\"\n",
    "Today we will be looking at the 2 Naive Bayes classification algorithms SeaLion has to offer - gaussian and multinomial (more common).\n",
    "Both of them use the same underlying principles and as usual we'll explain them step by step. \n",
    "\"\"\"\n",
    "\n",
    "# first import\n",
    "import sealion as sl \n",
    "from sealion.naive_bayes import GaussianNaiveBayes, MultinomialNaiveBayes"
   ]
  },
  {
   "cell_type": "code",
   "execution_count": 2,
   "id": "proof-cabinet",
   "metadata": {},
   "outputs": [],
   "source": [
    "\"\"\"\n",
    "We'll first start with gaussian naive bayes. The way it works is by creating a normal (gaussian) curve to measure the\n",
    "probability of any certain feature occuring for a given class. It looks at the probability for a feature to be on \n",
    "each class possible. The way it makes its predictions on a given data point is by just looking at the probability of\n",
    "each feature in the point for each class, and as it after aggregating all of the probabilities for all of the features\n",
    "will predict the class with the highest probability. \n",
    "\"\"\"\n",
    "\n",
    "# we will use the iris dataset for this\n",
    "from sklearn.datasets import load_iris\n",
    "X, y = load_iris()['data'], load_iris()['target']\n",
    "\n",
    "# and let's split\n",
    "from sklearn.model_selection import train_test_split\n",
    "X_train, X_test, y_train, y_test = train_test_split(X, y, test_size = 0.4, random_state = 3) # another thing to note : \n",
    "# with naive bayes, try to always have as balanced data for all classes as possible. "
   ]
  },
  {
   "cell_type": "code",
   "execution_count": 3,
   "id": "sorted-buddy",
   "metadata": {},
   "outputs": [],
   "source": [
    "# we can now setup the model\n",
    "gnb = GaussianNaiveBayes() \n",
    "gnb.fit(X_train, y_train) # fit the model"
   ]
  },
  {
   "cell_type": "code",
   "execution_count": 4,
   "id": "prompt-profit",
   "metadata": {},
   "outputs": [
    {
     "data": {
      "text/plain": [
       "0.9833333492279053"
      ]
     },
     "execution_count": 4,
     "metadata": {},
     "output_type": "execute_result"
    }
   ],
   "source": [
    "gnb.evaluate(X_test, y_test) # we can evaluate it"
   ]
  },
  {
   "cell_type": "code",
   "execution_count": 5,
   "id": "quality-greece",
   "metadata": {},
   "outputs": [
    {
     "data": {
      "text/plain": [
       "array([ True,  True,  True,  True,  True,  True,  True,  True,  True,\n",
       "        True,  True,  True,  True,  True,  True,  True,  True,  True,\n",
       "        True,  True,  True,  True,  True,  True,  True,  True,  True,\n",
       "        True,  True,  True,  True,  True,  True,  True,  True,  True,\n",
       "       False,  True,  True,  True,  True,  True,  True,  True,  True,\n",
       "        True,  True,  True,  True,  True,  True,  True,  True,  True,\n",
       "        True,  True,  True,  True,  True,  True])"
      ]
     },
     "execution_count": 5,
     "metadata": {},
     "output_type": "execute_result"
    }
   ],
   "source": [
    "# WOAH! Looks like we do pretty well with this model. Let's see how much we got wrong.\n",
    "y_pred = gnb.predict(X_test)\n",
    "y_pred == y_test "
   ]
  },
  {
   "cell_type": "code",
   "execution_count": 6,
   "id": "mechanical-switch",
   "metadata": {},
   "outputs": [
    {
     "data": {
      "text/html": [
       "<div>\n",
       "<style scoped>\n",
       "    .dataframe tbody tr th:only-of-type {\n",
       "        vertical-align: middle;\n",
       "    }\n",
       "\n",
       "    .dataframe tbody tr th {\n",
       "        vertical-align: top;\n",
       "    }\n",
       "\n",
       "    .dataframe thead th {\n",
       "        text-align: right;\n",
       "    }\n",
       "</style>\n",
       "<table border=\"1\" class=\"dataframe\">\n",
       "  <thead>\n",
       "    <tr style=\"text-align: right;\">\n",
       "      <th></th>\n",
       "      <th>v1</th>\n",
       "      <th>v2</th>\n",
       "      <th>Unnamed: 2</th>\n",
       "      <th>Unnamed: 3</th>\n",
       "      <th>Unnamed: 4</th>\n",
       "    </tr>\n",
       "  </thead>\n",
       "  <tbody>\n",
       "    <tr>\n",
       "      <th>0</th>\n",
       "      <td>ham</td>\n",
       "      <td>Go until jurong point, crazy.. Available only ...</td>\n",
       "      <td>NaN</td>\n",
       "      <td>NaN</td>\n",
       "      <td>NaN</td>\n",
       "    </tr>\n",
       "    <tr>\n",
       "      <th>1</th>\n",
       "      <td>ham</td>\n",
       "      <td>Ok lar... Joking wif u oni...</td>\n",
       "      <td>NaN</td>\n",
       "      <td>NaN</td>\n",
       "      <td>NaN</td>\n",
       "    </tr>\n",
       "    <tr>\n",
       "      <th>2</th>\n",
       "      <td>spam</td>\n",
       "      <td>Free entry in 2 a wkly comp to win FA Cup fina...</td>\n",
       "      <td>NaN</td>\n",
       "      <td>NaN</td>\n",
       "      <td>NaN</td>\n",
       "    </tr>\n",
       "    <tr>\n",
       "      <th>3</th>\n",
       "      <td>ham</td>\n",
       "      <td>U dun say so early hor... U c already then say...</td>\n",
       "      <td>NaN</td>\n",
       "      <td>NaN</td>\n",
       "      <td>NaN</td>\n",
       "    </tr>\n",
       "    <tr>\n",
       "      <th>4</th>\n",
       "      <td>ham</td>\n",
       "      <td>Nah I don't think he goes to usf, he lives aro...</td>\n",
       "      <td>NaN</td>\n",
       "      <td>NaN</td>\n",
       "      <td>NaN</td>\n",
       "    </tr>\n",
       "    <tr>\n",
       "      <th>...</th>\n",
       "      <td>...</td>\n",
       "      <td>...</td>\n",
       "      <td>...</td>\n",
       "      <td>...</td>\n",
       "      <td>...</td>\n",
       "    </tr>\n",
       "    <tr>\n",
       "      <th>5567</th>\n",
       "      <td>spam</td>\n",
       "      <td>This is the 2nd time we have tried 2 contact u...</td>\n",
       "      <td>NaN</td>\n",
       "      <td>NaN</td>\n",
       "      <td>NaN</td>\n",
       "    </tr>\n",
       "    <tr>\n",
       "      <th>5568</th>\n",
       "      <td>ham</td>\n",
       "      <td>Will Ì_ b going to esplanade fr home?</td>\n",
       "      <td>NaN</td>\n",
       "      <td>NaN</td>\n",
       "      <td>NaN</td>\n",
       "    </tr>\n",
       "    <tr>\n",
       "      <th>5569</th>\n",
       "      <td>ham</td>\n",
       "      <td>Pity, * was in mood for that. So...any other s...</td>\n",
       "      <td>NaN</td>\n",
       "      <td>NaN</td>\n",
       "      <td>NaN</td>\n",
       "    </tr>\n",
       "    <tr>\n",
       "      <th>5570</th>\n",
       "      <td>ham</td>\n",
       "      <td>The guy did some bitching but I acted like i'd...</td>\n",
       "      <td>NaN</td>\n",
       "      <td>NaN</td>\n",
       "      <td>NaN</td>\n",
       "    </tr>\n",
       "    <tr>\n",
       "      <th>5571</th>\n",
       "      <td>ham</td>\n",
       "      <td>Rofl. Its true to its name</td>\n",
       "      <td>NaN</td>\n",
       "      <td>NaN</td>\n",
       "      <td>NaN</td>\n",
       "    </tr>\n",
       "  </tbody>\n",
       "</table>\n",
       "<p>5572 rows × 5 columns</p>\n",
       "</div>"
      ],
      "text/plain": [
       "        v1                                                 v2 Unnamed: 2  \\\n",
       "0      ham  Go until jurong point, crazy.. Available only ...        NaN   \n",
       "1      ham                      Ok lar... Joking wif u oni...        NaN   \n",
       "2     spam  Free entry in 2 a wkly comp to win FA Cup fina...        NaN   \n",
       "3      ham  U dun say so early hor... U c already then say...        NaN   \n",
       "4      ham  Nah I don't think he goes to usf, he lives aro...        NaN   \n",
       "...    ...                                                ...        ...   \n",
       "5567  spam  This is the 2nd time we have tried 2 contact u...        NaN   \n",
       "5568   ham              Will Ì_ b going to esplanade fr home?        NaN   \n",
       "5569   ham  Pity, * was in mood for that. So...any other s...        NaN   \n",
       "5570   ham  The guy did some bitching but I acted like i'd...        NaN   \n",
       "5571   ham                         Rofl. Its true to its name        NaN   \n",
       "\n",
       "     Unnamed: 3 Unnamed: 4  \n",
       "0           NaN        NaN  \n",
       "1           NaN        NaN  \n",
       "2           NaN        NaN  \n",
       "3           NaN        NaN  \n",
       "4           NaN        NaN  \n",
       "...         ...        ...  \n",
       "5567        NaN        NaN  \n",
       "5568        NaN        NaN  \n",
       "5569        NaN        NaN  \n",
       "5570        NaN        NaN  \n",
       "5571        NaN        NaN  \n",
       "\n",
       "[5572 rows x 5 columns]"
      ]
     },
     "execution_count": 6,
     "metadata": {},
     "output_type": "execute_result"
    }
   ],
   "source": [
    "# 1 wrong. Super simple, right? \n",
    "\n",
    "# onto multinomial naive bayes\n",
    "\n",
    "\"\"\"\n",
    "Multinomial Naive Bayes is a type of naive bayes that will work with stuff like text classification, where you have \n",
    "a dataset where each observation/data point is just a word. This could look like :  [\"hello\", \"what\", \"do\", \"you\", \"want\", \"from\", \"me\"]\n",
    "for a given data point. Each feature is the exact same here, so what if a model could look split all data into its classes, \n",
    "and then see the probability of finding a feature (i.e. \"hello\") for that class. For example if you have a dataset of 100 emails,\n",
    "50 spam and 50 ham - you can split the 100 into a dataset of 50 spam and 50 ham and then count the number of \n",
    "times \"hello\" and all other features show up in each of those 50 class-datasets (doesn't matter where.) Then if you are given a new\n",
    "data point you can see the probability of seeing each of its features for each class, and choose the class with the\n",
    "highest probability. This is the underlying idea behind multinomial naive bayes. \n",
    "\"\"\"\n",
    "\n",
    "# let's get started\n",
    "# the spam dataset is available here : https://www.kaggle.com/uciml/sms-spam-collection-dataset\n",
    "import pandas as pd\n",
    "spam_df = pd.read_csv(\"spam.csv\", engine = \"python\", encoding='ISO-8859-1') # we need to manually define the encoding\n",
    "spam_df # print it out"
   ]
  },
  {
   "cell_type": "code",
   "execution_count": 7,
   "id": "informational-simpson",
   "metadata": {},
   "outputs": [
    {
     "data": {
      "text/plain": [
       "(0       Go until jurong point, crazy.. Available only ...\n",
       " 1                           Ok lar... Joking wif u oni...\n",
       " 2       Free entry in 2 a wkly comp to win FA Cup fina...\n",
       " 3       U dun say so early hor... U c already then say...\n",
       " 4       Nah I don't think he goes to usf, he lives aro...\n",
       "                               ...                        \n",
       " 5567    This is the 2nd time we have tried 2 contact u...\n",
       " 5568                Will Ì_ b going to esplanade fr home?\n",
       " 5569    Pity, * was in mood for that. So...any other s...\n",
       " 5570    The guy did some bitching but I acted like i'd...\n",
       " 5571                           Rofl. Its true to its name\n",
       " Name: v2, Length: 5572, dtype: object,\n",
       " 0        ham\n",
       " 1        ham\n",
       " 2       spam\n",
       " 3        ham\n",
       " 4        ham\n",
       "         ... \n",
       " 5567    spam\n",
       " 5568     ham\n",
       " 5569     ham\n",
       " 5570     ham\n",
       " 5571     ham\n",
       " Name: v1, Length: 5572, dtype: object)"
      ]
     },
     "execution_count": 7,
     "metadata": {},
     "output_type": "execute_result"
    }
   ],
   "source": [
    "# as usual data manipulation is honestly not as fun as the algorithms, so we're going to have to get our hands dirty\n",
    "X, y = spam_df['v2'], spam_df['v1']\n",
    "X, y # let's print this stuff out"
   ]
  },
  {
   "cell_type": "code",
   "execution_count": 8,
   "id": "interested-intensity",
   "metadata": {},
   "outputs": [],
   "source": [
    "# it looks like we have plenty of data \n",
    "# the first step is tokenize, where we take those strings in each data point and turn them into unique numbers. This\n",
    "# will apply throughout, so \"hello\" as 100 in one data point is the same for another\n",
    "\n",
    "VOCAB_SIZE = 10000 # we allow 10000 words\n",
    "from tensorflow.keras.preprocessing.text import Tokenizer\n",
    "tokenizer = Tokenizer(num_words = VOCAB_SIZE)\n",
    "tokenizer.fit_on_texts(X)\n",
    "X_seq = tokenizer.texts_to_sequences(X)\n",
    "\n",
    "from tensorflow.keras.preprocessing.sequence import pad_sequences\n",
    "# we'll also want to pad it, meaning that we make sure everything is the same length\n",
    "X_pad = pad_sequences(X_seq, maxlen = 100, truncating = \"post\", padding = \"post\")"
   ]
  },
  {
   "cell_type": "code",
   "execution_count": 10,
   "id": "random-asian",
   "metadata": {},
   "outputs": [],
   "source": [
    "# and we will want to split it up now\n",
    "from sklearn.model_selection import train_test_split\n",
    "import numpy as np\n",
    "y = np.array(y)\n",
    "y[np.where(y == \"ham\")] = 0 \n",
    "y[np.where(y == \"spam\")] = 1 # spam is 1\n",
    "\n",
    "X_train, X_test, y_train, y_test = train_test_split(X_pad, y, test_size = 0.15, random_state = 3)"
   ]
  },
  {
   "cell_type": "code",
   "execution_count": 11,
   "id": "advised-confirmation",
   "metadata": {},
   "outputs": [
    {
     "data": {
      "text/plain": [
       "array([[   8, 6115, 6116, ...,    0,    0,    0],\n",
       "       [  27,  117,  217, ...,    0,    0,    0],\n",
       "       [ 100,  767,  114, ...,    0,    0,    0],\n",
       "       ...,\n",
       "       [  23,   21,   11, ...,    0,    0,    0],\n",
       "       [  46,  767,    1, ...,    0,    0,    0],\n",
       "       [2765, 5776, 5777, ...,    0,    0,    0]], dtype=int32)"
      ]
     },
     "execution_count": 11,
     "metadata": {},
     "output_type": "execute_result"
    }
   ],
   "source": [
    "# let's print out X_train\n",
    "X_train"
   ]
  },
  {
   "cell_type": "code",
   "execution_count": 12,
   "id": "genuine-observer",
   "metadata": {},
   "outputs": [],
   "source": [
    "# time to start using Multinomial Naive Bayes\n",
    "mnb = MultinomialNaiveBayes()\n",
    "mnb.fit(X_train, y_train)"
   ]
  },
  {
   "cell_type": "code",
   "execution_count": 13,
   "id": "continued-courage",
   "metadata": {},
   "outputs": [
    {
     "data": {
      "text/plain": [
       "0.9940191507339478"
      ]
     },
     "execution_count": 13,
     "metadata": {},
     "output_type": "execute_result"
    }
   ],
   "source": [
    "# time to evaluate\n",
    "mnb.evaluate(X_test, y_test)"
   ]
  },
  {
   "cell_type": "code",
   "execution_count": 14,
   "id": "negative-freedom",
   "metadata": {},
   "outputs": [
    {
     "data": {
      "text/plain": [
       "array([0, 1, 0, 0, 0, 0, 1, 0, 0, 0])"
      ]
     },
     "execution_count": 14,
     "metadata": {},
     "output_type": "execute_result"
    }
   ],
   "source": [
    "# dang ... but hmmm is it just predicting 0s? Is that why? \n",
    "mnb.predict(X_test)[:10]"
   ]
  },
  {
   "cell_type": "code",
   "execution_count": 15,
   "id": "forward-subscriber",
   "metadata": {},
   "outputs": [
    {
     "data": {
      "text/plain": [
       "array([[718.,   0.],\n",
       "       [  5., 113.]])"
      ]
     },
     "execution_count": 15,
     "metadata": {},
     "output_type": "execute_result"
    },
    {
     "data": {
      "image/png": "[encoded data removed]",
      "text/plain": [
       "<Figure size 432x288 with 2 Axes>"
      ]
     },
     "metadata": {
      "needs_background": "light"
     },
     "output_type": "display_data"
    }
   ],
   "source": [
    "# looks like it did phenomenal. And of course, we're going to use a confusion matrix. \n",
    "from sealion.utils import confusion_matrix\n",
    "confusion_matrix(mnb.predict(X_test), y_test)"
   ]
  },
  {
   "cell_type": "code",
   "execution_count": 16,
   "id": "split-gazette",
   "metadata": {},
   "outputs": [],
   "source": [
    "# The only thing we get wrong is thinking something is fine when its not. I think that's better than \n",
    "# the opposite, where you miss something important and it goes into your spam folder...\n",
    "\n",
    "# Look's like that's the end for us. As usual, I hope you enjoyed this tutorial!"
   ]
  }
 ],
 "metadata": {
  "kernelspec": {
   "display_name": "Python 3",
   "language": "python",
   "name": "python3"
  },
  "language_info": {
   "codemirror_mode": {
    "name": "ipython",
    "version": 3
   },
   "file_extension": ".py",
   "mimetype": "text/x-python",
   "name": "python",
   "nbconvert_exporter": "python",
   "pygments_lexer": "ipython3",
   "version": "3.8.7"
  }
 },
 "nbformat": 4,
 "nbformat_minor": 5
}
